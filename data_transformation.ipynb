{
 "cells": [
  {
   "metadata": {
    "ExecuteTime": {
     "end_time": "2024-04-18T06:46:11.288304Z",
     "start_time": "2024-04-18T06:46:11.286221Z"
    }
   },
   "cell_type": "code",
   "source": [
    "import pandas as pd\n",
    "import seaborn as sns\n",
    "import matplotlib.pyplot as plt"
   ],
   "id": "62d723624332bc6d",
   "outputs": [],
   "execution_count": 1
  },
  {
   "metadata": {
    "ExecuteTime": {
     "end_time": "2024-04-18T07:00:28.540464Z",
     "start_time": "2024-04-18T07:00:28.484141Z"
    }
   },
   "cell_type": "code",
   "source": [
    "df = pd.read_csv(\"datasets/data_2024-04-18T06-54-03.csv\")\n",
    "\n",
    "df.tail()\n"
   ],
   "id": "fafd1098-3889-442c-abfe-b073c62fd405",
   "outputs": [
    {
     "data": {
      "text/plain": [
       "                        timestamp  \\\n",
       "35948  2024-04-16T07-03-34-827647   \n",
       "35949  2024-04-16T07-03-34-876268   \n",
       "35950  2024-04-16T07-03-34-928311   \n",
       "35951  2024-04-16T07-03-34-969995   \n",
       "35952  2024-04-16T07-03-35-032402   \n",
       "\n",
       "                                           center_image  \\\n",
       "35948  images/2024-04-16T07-03-34-827647_rgb_center.jpg   \n",
       "35949  images/2024-04-16T07-03-34-860119_rgb_center.jpg   \n",
       "35950  images/2024-04-16T07-03-34-922039_rgb_center.jpg   \n",
       "35951  images/2024-04-16T07-03-34-984939_rgb_center.jpg   \n",
       "35952  images/2024-04-16T07-03-35-016742_rgb_center.jpg   \n",
       "\n",
       "                                           left_image  \\\n",
       "35948  images/2024-04-16T07-03-34-840249_rgb_left.jpg   \n",
       "35949  images/2024-04-16T07-03-34-873454_rgb_left.jpg   \n",
       "35950  images/2024-04-16T07-03-34-935114_rgb_left.jpg   \n",
       "35951  images/2024-04-16T07-03-34-967365_rgb_left.jpg   \n",
       "35952  images/2024-04-16T07-03-35-029655_rgb_left.jpg   \n",
       "\n",
       "                                           right_image  steering  throttle  \n",
       "35948  images/2024-04-16T07-03-34-834033_rgb_right.jpg  0.000440      0.85  \n",
       "35949  images/2024-04-16T07-03-34-866792_rgb_right.jpg  0.000440      0.85  \n",
       "35950  images/2024-04-16T07-03-34-928311_rgb_right.jpg -0.000176      0.85  \n",
       "35951  images/2024-04-16T07-03-34-991895_rgb_right.jpg  0.000616      0.85  \n",
       "35952  images/2024-04-16T07-03-35-022877_rgb_right.jpg  0.000000      0.85  "
      ],
      "text/html": [
       "<div>\n",
       "<style scoped>\n",
       "    .dataframe tbody tr th:only-of-type {\n",
       "        vertical-align: middle;\n",
       "    }\n",
       "\n",
       "    .dataframe tbody tr th {\n",
       "        vertical-align: top;\n",
       "    }\n",
       "\n",
       "    .dataframe thead th {\n",
       "        text-align: right;\n",
       "    }\n",
       "</style>\n",
       "<table border=\"1\" class=\"dataframe\">\n",
       "  <thead>\n",
       "    <tr style=\"text-align: right;\">\n",
       "      <th></th>\n",
       "      <th>timestamp</th>\n",
       "      <th>center_image</th>\n",
       "      <th>left_image</th>\n",
       "      <th>right_image</th>\n",
       "      <th>steering</th>\n",
       "      <th>throttle</th>\n",
       "    </tr>\n",
       "  </thead>\n",
       "  <tbody>\n",
       "    <tr>\n",
       "      <th>35948</th>\n",
       "      <td>2024-04-16T07-03-34-827647</td>\n",
       "      <td>images/2024-04-16T07-03-34-827647_rgb_center.jpg</td>\n",
       "      <td>images/2024-04-16T07-03-34-840249_rgb_left.jpg</td>\n",
       "      <td>images/2024-04-16T07-03-34-834033_rgb_right.jpg</td>\n",
       "      <td>0.000440</td>\n",
       "      <td>0.85</td>\n",
       "    </tr>\n",
       "    <tr>\n",
       "      <th>35949</th>\n",
       "      <td>2024-04-16T07-03-34-876268</td>\n",
       "      <td>images/2024-04-16T07-03-34-860119_rgb_center.jpg</td>\n",
       "      <td>images/2024-04-16T07-03-34-873454_rgb_left.jpg</td>\n",
       "      <td>images/2024-04-16T07-03-34-866792_rgb_right.jpg</td>\n",
       "      <td>0.000440</td>\n",
       "      <td>0.85</td>\n",
       "    </tr>\n",
       "    <tr>\n",
       "      <th>35950</th>\n",
       "      <td>2024-04-16T07-03-34-928311</td>\n",
       "      <td>images/2024-04-16T07-03-34-922039_rgb_center.jpg</td>\n",
       "      <td>images/2024-04-16T07-03-34-935114_rgb_left.jpg</td>\n",
       "      <td>images/2024-04-16T07-03-34-928311_rgb_right.jpg</td>\n",
       "      <td>-0.000176</td>\n",
       "      <td>0.85</td>\n",
       "    </tr>\n",
       "    <tr>\n",
       "      <th>35951</th>\n",
       "      <td>2024-04-16T07-03-34-969995</td>\n",
       "      <td>images/2024-04-16T07-03-34-984939_rgb_center.jpg</td>\n",
       "      <td>images/2024-04-16T07-03-34-967365_rgb_left.jpg</td>\n",
       "      <td>images/2024-04-16T07-03-34-991895_rgb_right.jpg</td>\n",
       "      <td>0.000616</td>\n",
       "      <td>0.85</td>\n",
       "    </tr>\n",
       "    <tr>\n",
       "      <th>35952</th>\n",
       "      <td>2024-04-16T07-03-35-032402</td>\n",
       "      <td>images/2024-04-16T07-03-35-016742_rgb_center.jpg</td>\n",
       "      <td>images/2024-04-16T07-03-35-029655_rgb_left.jpg</td>\n",
       "      <td>images/2024-04-16T07-03-35-022877_rgb_right.jpg</td>\n",
       "      <td>0.000000</td>\n",
       "      <td>0.85</td>\n",
       "    </tr>\n",
       "  </tbody>\n",
       "</table>\n",
       "</div>"
      ]
     },
     "execution_count": 17,
     "metadata": {},
     "output_type": "execute_result"
    }
   ],
   "execution_count": 17
  },
  {
   "cell_type": "code",
   "id": "eefd207f-e6ff-44bb-a22a-294f6b1af8a3",
   "metadata": {
    "ExecuteTime": {
     "end_time": "2024-04-18T07:00:28.943006Z",
     "start_time": "2024-04-18T07:00:28.931271Z"
    }
   },
   "source": "df.describe().T",
   "outputs": [
    {
     "data": {
      "text/plain": [
       "            count     mean       std       min      25%       50%       75%  \\\n",
       "steering  35953.0  0.00855  0.104536 -0.652727 -0.00044  0.000000  0.000440   \n",
       "throttle  35953.0  0.22177  0.269419  0.000000  0.00000  0.128395  0.384793   \n",
       "\n",
       "           max  \n",
       "steering  0.80  \n",
       "throttle  0.85  "
      ],
      "text/html": [
       "<div>\n",
       "<style scoped>\n",
       "    .dataframe tbody tr th:only-of-type {\n",
       "        vertical-align: middle;\n",
       "    }\n",
       "\n",
       "    .dataframe tbody tr th {\n",
       "        vertical-align: top;\n",
       "    }\n",
       "\n",
       "    .dataframe thead th {\n",
       "        text-align: right;\n",
       "    }\n",
       "</style>\n",
       "<table border=\"1\" class=\"dataframe\">\n",
       "  <thead>\n",
       "    <tr style=\"text-align: right;\">\n",
       "      <th></th>\n",
       "      <th>count</th>\n",
       "      <th>mean</th>\n",
       "      <th>std</th>\n",
       "      <th>min</th>\n",
       "      <th>25%</th>\n",
       "      <th>50%</th>\n",
       "      <th>75%</th>\n",
       "      <th>max</th>\n",
       "    </tr>\n",
       "  </thead>\n",
       "  <tbody>\n",
       "    <tr>\n",
       "      <th>steering</th>\n",
       "      <td>35953.0</td>\n",
       "      <td>0.00855</td>\n",
       "      <td>0.104536</td>\n",
       "      <td>-0.652727</td>\n",
       "      <td>-0.00044</td>\n",
       "      <td>0.000000</td>\n",
       "      <td>0.000440</td>\n",
       "      <td>0.80</td>\n",
       "    </tr>\n",
       "    <tr>\n",
       "      <th>throttle</th>\n",
       "      <td>35953.0</td>\n",
       "      <td>0.22177</td>\n",
       "      <td>0.269419</td>\n",
       "      <td>0.000000</td>\n",
       "      <td>0.00000</td>\n",
       "      <td>0.128395</td>\n",
       "      <td>0.384793</td>\n",
       "      <td>0.85</td>\n",
       "    </tr>\n",
       "  </tbody>\n",
       "</table>\n",
       "</div>"
      ]
     },
     "execution_count": 18,
     "metadata": {},
     "output_type": "execute_result"
    }
   ],
   "execution_count": 18
  },
  {
   "cell_type": "code",
   "id": "2886cecb-3747-46b0-8b12-b033f34d6c67",
   "metadata": {
    "ExecuteTime": {
     "end_time": "2024-04-18T07:00:32.257422Z",
     "start_time": "2024-04-18T07:00:32.140909Z"
    }
   },
   "source": [
    "# draw a boxplot for the steering column\n",
    "sns.histplot(df, x=\"steering\", bins=25)"
   ],
   "outputs": [
    {
     "data": {
      "text/plain": [
       "<Axes: xlabel='steering', ylabel='Count'>"
      ]
     },
     "execution_count": 19,
     "metadata": {},
     "output_type": "execute_result"
    },
    {
     "data": {
      "text/plain": [
       "<Figure size 640x480 with 1 Axes>"
      ],
      "image/png": "[encoded data removed]"
     },
     "metadata": {},
     "output_type": "display_data"
    }
   ],
   "execution_count": 19
  },
  {
   "cell_type": "code",
   "id": "ad70c92a-0417-45bb-9058-713d55c3601e",
   "metadata": {
    "ExecuteTime": {
     "end_time": "2024-04-18T07:00:36.076856Z",
     "start_time": "2024-04-18T07:00:36.068991Z"
    }
   },
   "source": "df[\"steering\"].skew()",
   "outputs": [
    {
     "data": {
      "text/plain": [
       "3.029198981290947"
      ]
     },
     "execution_count": 20,
     "metadata": {},
     "output_type": "execute_result"
    }
   ],
   "execution_count": 20
  },
  {
   "metadata": {
    "ExecuteTime": {
     "end_time": "2024-04-16T07:48:16.323050Z",
     "start_time": "2024-04-16T07:48:16.315999Z"
    }
   },
   "cell_type": "code",
   "source": [
    "# Delimitation outliers based on 3 standard deviations\n",
    "\n",
    "std = df[\"steering\"].std()\n",
    "mean = df[\"steering\"].mean()\n",
    "\n",
    "upper_limit = mean + 3*std\n",
    "lower_limit = mean - 3*std\n",
    "\n",
    "outliers = df[(df[\"steering\"] > upper_limit) | (df[\"steering\"] < lower_limit)]\n",
    "outliers[\"steering\"].count()"
   ],
   "id": "33c83beed80d9b09",
   "outputs": [
    {
     "data": {
      "text/plain": [
       "1426"
      ]
     },
     "execution_count": 15,
     "metadata": {},
     "output_type": "execute_result"
    }
   ],
   "execution_count": 15
  },
  {
   "metadata": {
    "ExecuteTime": {
     "end_time": "2024-04-18T07:00:39.788183Z",
     "start_time": "2024-04-18T07:00:39.783722Z"
    }
   },
   "cell_type": "code",
   "source": [
    "df_m = df[df[\"throttle\"] != 0]\n",
    "df_m[\"steering\"].count()"
   ],
   "id": "5b2d7ae3f8be2dca",
   "outputs": [
    {
     "data": {
      "text/plain": [
       "18808"
      ]
     },
     "execution_count": 21,
     "metadata": {},
     "output_type": "execute_result"
    }
   ],
   "execution_count": 21
  },
  {
   "metadata": {
    "ExecuteTime": {
     "end_time": "2024-04-17T07:14:56.364586Z",
     "start_time": "2024-04-17T07:14:56.362373Z"
    }
   },
   "cell_type": "code",
   "source": "df_m = df",
   "id": "e89eb0be78d31178",
   "outputs": [],
   "execution_count": 9
  },
  {
   "metadata": {
    "ExecuteTime": {
     "end_time": "2024-04-18T07:00:42.683181Z",
     "start_time": "2024-04-18T07:00:42.677580Z"
    }
   },
   "cell_type": "code",
   "source": [
    "closed_to_zero = df_m[(df_m[\"steering\"] >= -0.05) & (df_m[\"steering\"] <= 0.05)][\"steering\"]\n",
    "closed_to_zero.count()"
   ],
   "id": "8d5a511f9a94b4ed",
   "outputs": [
    {
     "data": {
      "text/plain": [
       "15592"
      ]
     },
     "execution_count": 22,
     "metadata": {},
     "output_type": "execute_result"
    }
   ],
   "execution_count": 22
  },
  {
   "metadata": {
    "ExecuteTime": {
     "end_time": "2024-04-18T07:00:46.698761Z",
     "start_time": "2024-04-18T07:00:46.694201Z"
    }
   },
   "cell_type": "code",
   "source": [
    "# reduce the number of examples close to zero from 29047 to 1500\n",
    "df2 = df_m.drop(closed_to_zero.sample(frac=0.9).index)\n"
   ],
   "id": "e80c227a48998d37",
   "outputs": [],
   "execution_count": 23
  },
  {
   "metadata": {
    "ExecuteTime": {
     "end_time": "2024-04-18T07:00:47.217586Z",
     "start_time": "2024-04-18T07:00:47.214896Z"
    }
   },
   "cell_type": "code",
   "source": "df2[\"steering\"].count()",
   "id": "234a9835ec999971",
   "outputs": [
    {
     "data": {
      "text/plain": [
       "4775"
      ]
     },
     "execution_count": 24,
     "metadata": {},
     "output_type": "execute_result"
    }
   ],
   "execution_count": 24
  },
  {
   "metadata": {
    "ExecuteTime": {
     "end_time": "2024-04-18T07:00:48.371417Z",
     "start_time": "2024-04-18T07:00:48.368479Z"
    }
   },
   "cell_type": "code",
   "source": "df2[\"steering\"].skew()",
   "id": "6b1fa185041faad6",
   "outputs": [
    {
     "data": {
      "text/plain": [
       "0.619121615861218"
      ]
     },
     "execution_count": 25,
     "metadata": {},
     "output_type": "execute_result"
    }
   ],
   "execution_count": 25
  },
  {
   "metadata": {
    "ExecuteTime": {
     "end_time": "2024-04-18T07:00:50.610584Z",
     "start_time": "2024-04-18T07:00:50.468560Z"
    }
   },
   "cell_type": "code",
   "source": [
    "plt.figure(figsize=(15, 5))\n",
    "\n",
    "# Put a vertical label to every of the 40 bins in vertical\n",
    "\n",
    "sns.histplot(df2, x=\"steering\", bins=40, kde=True)\n",
    "plt.xlabel(\"Steering Angle\")\n",
    "plt.xticks(rotation=90)\n",
    "plt.show()"
   ],
   "id": "483211a922a09041",
   "outputs": [
    {
     "data": {
      "text/plain": [
       "<Figure size 1500x500 with 1 Axes>"
      ],
      "image/png": "[encoded data removed]"
     },
     "metadata": {},
     "output_type": "display_data"
    }
   ],
   "execution_count": 26
  },
  {
   "metadata": {
    "ExecuteTime": {
     "end_time": "2024-04-18T07:00:58.456678Z",
     "start_time": "2024-04-18T07:00:58.441840Z"
    }
   },
   "cell_type": "code",
   "source": [
    "# Save df2, export the cleaned data ad a new csv file\n",
    "df2.to_csv(\"datasets/data.csv\", index=False, header=True, encoding=\"utf-8\")"
   ],
   "id": "3881f6cc92651739",
   "outputs": [],
   "execution_count": 27
  },
  {
   "metadata": {
    "ExecuteTime": {
     "end_time": "2024-04-17T07:14:33.188904Z",
     "start_time": "2024-04-17T07:14:33.183438Z"
    }
   },
   "cell_type": "code",
   "source": [
    "closed_to_01 = df[((df[\"steering\"] >= -0.15) & (df[\"steering\"] < -0.05)) | ((df[\"steering\"] > 0.05) & (df[\"steering\"] <= 0.15))][\"steering\"]\n",
    "closed_to_01.count()"
   ],
   "id": "6468709dda271466",
   "outputs": [
    {
     "data": {
      "text/plain": [
       "3343"
      ]
     },
     "execution_count": 5,
     "metadata": {},
     "output_type": "execute_result"
    }
   ],
   "execution_count": 5
  },
  {
   "metadata": {
    "ExecuteTime": {
     "end_time": "2024-04-17T07:14:36.396176Z",
     "start_time": "2024-04-17T07:14:36.392199Z"
    }
   },
   "cell_type": "code",
   "source": [
    "closed_to_02 = df[((df[\"steering\"] >= -0.25) & (df[\"steering\"] < -0.15)) | ((df[\"steering\"] > 0.15) & (df[\"steering\"] <= 0.25))][\"steering\"]\n",
    "closed_to_02.count()"
   ],
   "id": "7be873fff8d06cb9",
   "outputs": [
    {
     "data": {
      "text/plain": [
       "3084"
      ]
     },
     "execution_count": 6,
     "metadata": {},
     "output_type": "execute_result"
    }
   ],
   "execution_count": 6
  },
  {
   "metadata": {
    "ExecuteTime": {
     "end_time": "2024-04-17T07:14:37.536335Z",
     "start_time": "2024-04-17T07:14:37.532212Z"
    }
   },
   "cell_type": "code",
   "source": [
    "closed_to_03 = df[((df[\"steering\"] >= -0.35) & (df[\"steering\"] < -0.25)) | ((df[\"steering\"] > 0.25) & (df[\"steering\"] <= 0.35))][\"steering\"]\n",
    "closed_to_03.count()"
   ],
   "id": "e03642ce7ffafa9e",
   "outputs": [
    {
     "data": {
      "text/plain": [
       "985"
      ]
     },
     "execution_count": 7,
     "metadata": {},
     "output_type": "execute_result"
    }
   ],
   "execution_count": 7
  },
  {
   "metadata": {
    "ExecuteTime": {
     "end_time": "2024-04-17T07:15:33.687990Z",
     "start_time": "2024-04-17T07:15:33.682175Z"
    }
   },
   "cell_type": "code",
   "source": [
    "# reduce the number of examples\n",
    "df3 = df.drop(closed_to_zero.sample(frac=0.9).index)\n",
    "df3 = df3.drop(closed_to_01.sample(frac=0.90).index)\n",
    "df3 = df3.drop(closed_to_02.sample(frac=0.95).index)\n",
    "df3 = df3.drop(closed_to_03.sample(frac=0.95).index)"
   ],
   "id": "9e038eae8fc16a4a",
   "outputs": [],
   "execution_count": 13
  },
  {
   "metadata": {
    "ExecuteTime": {
     "end_time": "2024-04-15T07:36:07.905252Z",
     "start_time": "2024-04-15T07:36:07.901634Z"
    }
   },
   "cell_type": "code",
   "source": [
    "# round values from -0.05 to 0.05 to 0\n",
    "df3.loc[(df3[\"steering\"] >= -0.05) & (df3[\"steering\"] <= 0.05), \"steering\"] = 0"
   ],
   "id": "75ed76c4b7d4f986",
   "outputs": [],
   "execution_count": 140
  },
  {
   "metadata": {
    "ExecuteTime": {
     "end_time": "2024-04-17T07:15:35.981528Z",
     "start_time": "2024-04-17T07:15:35.843112Z"
    }
   },
   "cell_type": "code",
   "source": [
    "plt.figure(figsize=(15, 5))\n",
    "\n",
    "# Put a vertical label to every of the 40 bins in vertical\n",
    "\n",
    "sns.histplot(df3, x=\"steering\", bins=20, kde=True)\n",
    "plt.xlabel(\"Steering Angle\")\n",
    "plt.xticks(rotation=90)\n",
    "plt.show()"
   ],
   "id": "b42d6c8e0db13e28",
   "outputs": [
    {
     "data": {
      "text/plain": [
       "<Figure size 1500x500 with 1 Axes>"
      ],
      "image/png": "[encoded data removed]"
     },
     "metadata": {},
     "output_type": "display_data"
    }
   ],
   "execution_count": 14
  },
  {
   "metadata": {
    "ExecuteTime": {
     "end_time": "2024-04-17T07:15:44.631335Z",
     "start_time": "2024-04-17T07:15:44.626275Z"
    }
   },
   "cell_type": "code",
   "source": "df3[\"steering\"].skew()",
   "id": "aab6b175c4aba711",
   "outputs": [
    {
     "data": {
      "text/plain": [
       "1.842603595931794"
      ]
     },
     "execution_count": 15,
     "metadata": {},
     "output_type": "execute_result"
    }
   ],
   "execution_count": 15
  },
  {
   "metadata": {
    "ExecuteTime": {
     "end_time": "2024-04-17T07:15:47.811881Z",
     "start_time": "2024-04-17T07:15:47.808948Z"
    }
   },
   "cell_type": "code",
   "source": "df3[\"steering\"].count()",
   "id": "f7cee91e7a620064",
   "outputs": [
    {
     "data": {
      "text/plain": [
       "3798"
      ]
     },
     "execution_count": 16,
     "metadata": {},
     "output_type": "execute_result"
    }
   ],
   "execution_count": 16
  },
  {
   "metadata": {
    "ExecuteTime": {
     "end_time": "2024-04-17T07:15:58.542005Z",
     "start_time": "2024-04-17T07:15:58.526231Z"
    }
   },
   "cell_type": "code",
   "source": [
    "# Export the cleaned data ad a new csv file\n",
    "df3.to_csv(\"datasets/data.csv\", index=False, header=True, encoding=\"utf-8\")"
   ],
   "id": "82a35034139e5d9b",
   "outputs": [],
   "execution_count": 17
  },
  {
   "metadata": {
    "ExecuteTime": {
     "end_time": "2024-04-17T07:15:59.631909Z",
     "start_time": "2024-04-17T07:15:59.622373Z"
    }
   },
   "cell_type": "code",
   "source": "df3.describe().T",
   "id": "e15b9573dae40b0d",
   "outputs": [
    {
     "data": {
      "text/plain": [
       "           count      mean       std       min       25%  50%       75%  max\n",
       "steering  3798.0  0.006478  0.173216 -0.581881 -0.003787  0.0  0.003299  0.8"
      ],
      "text/html": [
       "<div>\n",
       "<style scoped>\n",
       "    .dataframe tbody tr th:only-of-type {\n",
       "        vertical-align: middle;\n",
       "    }\n",
       "\n",
       "    .dataframe tbody tr th {\n",
       "        vertical-align: top;\n",
       "    }\n",
       "\n",
       "    .dataframe thead th {\n",
       "        text-align: right;\n",
       "    }\n",
       "</style>\n",
       "<table border=\"1\" class=\"dataframe\">\n",
       "  <thead>\n",
       "    <tr style=\"text-align: right;\">\n",
       "      <th></th>\n",
       "      <th>count</th>\n",
       "      <th>mean</th>\n",
       "      <th>std</th>\n",
       "      <th>min</th>\n",
       "      <th>25%</th>\n",
       "      <th>50%</th>\n",
       "      <th>75%</th>\n",
       "      <th>max</th>\n",
       "    </tr>\n",
       "  </thead>\n",
       "  <tbody>\n",
       "    <tr>\n",
       "      <th>steering</th>\n",
       "      <td>3798.0</td>\n",
       "      <td>0.006478</td>\n",
       "      <td>0.173216</td>\n",
       "      <td>-0.581881</td>\n",
       "      <td>-0.003787</td>\n",
       "      <td>0.0</td>\n",
       "      <td>0.003299</td>\n",
       "      <td>0.8</td>\n",
       "    </tr>\n",
       "  </tbody>\n",
       "</table>\n",
       "</div>"
      ]
     },
     "execution_count": 18,
     "metadata": {},
     "output_type": "execute_result"
    }
   ],
   "execution_count": 18
  },
  {
   "metadata": {},
   "cell_type": "code",
   "outputs": [],
   "execution_count": null,
   "source": "",
   "id": "4b6bd302f0bbff1e"
  }
 ],
 "metadata": {
  "kernelspec": {
   "display_name": "Python 3 (ipykernel)",
   "language": "python",
   "name": "python3"
  },
  "language_info": {
   "codemirror_mode": {
    "name": "ipython",
    "version": 3
   },
   "file_extension": ".py",
   "mimetype": "text/x-python",
   "name": "python",
   "nbconvert_exporter": "python",
   "pygments_lexer": "ipython3",
   "version": "3.10.14"
  }
 },
 "nbformat": 4,
 "nbformat_minor": 5
}
